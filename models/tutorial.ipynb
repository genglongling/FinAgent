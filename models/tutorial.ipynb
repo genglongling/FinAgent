{
 "cells": [
  {
   "cell_type": "markdown",
   "metadata": {},
   "source": [
    "#### @prompt example"
   ]
  },
  {
   "cell_type": "code",
   "execution_count": null,
   "metadata": {},
   "outputs": [],
   "source": [
    "from magentic import prompt\n",
    "\n",
    "\n",
    "@prompt(\"Explain like I'm five this financial concept: {concept}\")\n",
    "def explain(concept: str) -> str: ...\n",
    "\n",
    "\n",
    "explain(\"Subprime mortgage crisis\")"
   ]
  },
  {
   "cell_type": "code",
   "execution_count": 3,
   "metadata": {},
   "outputs": [],
   "source": [
    "from magentic import prompt\n",
    "from pydantic import BaseModel\n",
    "\n",
    "\n",
    "class Portfolio(BaseModel):\n",
    "    equity_etf_pct: float\n",
    "    bond_etf_pc: float\n",
    "    crypto_etf_pc: float\n",
    "    commodities_pc: float\n",
    "    reasoning: str\n",
    "\n",
    "\n",
    "@prompt(\"Create a strong portfolio of {size} allocation size.\")\n",
    "def create_portfolio(size: str) -> Portfolio: ...\n",
    "\n",
    "\n",
    "portfolio = create_portfolio(\"$50,000\")"
   ]
  },
  {
   "cell_type": "code",
   "execution_count": null,
   "metadata": {},
   "outputs": [],
   "source": [
    "print(portfolio)"
   ]
  },
  {
   "cell_type": "markdown",
   "metadata": {},
   "source": [
    "#### @chatprompt decorator"
   ]
  },
  {
   "cell_type": "code",
   "execution_count": null,
   "metadata": {},
   "outputs": [],
   "source": [
    "from magentic import chatprompt, AssistantMessage, SystemMessage, UserMessage\n",
    "from pydantic import BaseModel\n",
    "\n",
    "\n",
    "class Quote(BaseModel):\n",
    "    quote: str\n",
    "    person: str\n",
    "\n",
    "\n",
    "@chatprompt(\n",
    "    SystemMessage(\"You are an avid reader of financial literature.\"),\n",
    "    UserMessage(\"What is your favorite quote from Warren Buffet?\"),\n",
    "    AssistantMessage(\n",
    "        Quote(\n",
    "            quote=\"Price is what you pay; value is what you get.\",\n",
    "            person=\"Warren Buffet\",\n",
    "        )\n",
    "    ),\n",
    "    UserMessage(\"What is your favorite quote from {person}?\"),\n",
    ")\n",
    "def get_finance_quote(person: str) -> Quote: ...\n",
    "\n",
    "\n",
    "get_finance_quote(\"Charlie Munger\")"
   ]
  },
  {
   "cell_type": "markdown",
   "metadata": {},
   "source": [
    "#### Function calling"
   ]
  },
  {
   "cell_type": "code",
   "execution_count": 1,
   "metadata": {},
   "outputs": [],
   "source": [
    "import os\n",
    "import requests\n",
    "from magentic import prompt, FunctionCall\n",
    "\n",
    "AV_API_KEY = os.getenv(\"AV_API_KEY\")\n",
    "\n",
    "\n",
    "def get_daily_price(ticker: str, api_key: str = AV_API_KEY) -> dict:\n",
    "    url = f\"https://www.alphavantage.co/query?function=TIME_SERIES_DAILY&symbol={ticker}&apikey={api_key}\"\n",
    "    r = requests.get(url)\n",
    "    data = r.json()\n",
    "    return data[\"Time Series (Daily)\"]\n",
    "\n",
    "\n",
    "@prompt(\n",
    "    \"Use the appropriate search function to answer: {question}\",\n",
    "    functions=[get_daily_price],\n",
    ")\n",
    "def perform_search(question: str) -> FunctionCall[str]: ...\n",
    "\n",
    "\n",
    "output = perform_search(\"What is the daily price data of AAPL?\")"
   ]
  },
  {
   "cell_type": "code",
   "execution_count": null,
   "metadata": {},
   "outputs": [],
   "source": [
    "print(output)"
   ]
  },
  {
   "cell_type": "code",
   "execution_count": null,
   "metadata": {},
   "outputs": [],
   "source": [
    "output()"
   ]
  },
  {
   "cell_type": "markdown",
   "metadata": {},
   "source": [
    "#### Prompt Chains"
   ]
  },
  {
   "cell_type": "code",
   "execution_count": null,
   "metadata": {},
   "outputs": [],
   "source": [
    "import csv\n",
    "from magentic import prompt_chain\n",
    "\n",
    "\n",
    "def get_earnings_calendar(ticker: str, api_key: str = AV_API_KEY) -> list:\n",
    "    url = f\"https://www.alphavantage.co/query?function=EARNINGS_CALENDAR&symbol={ticker}&horizon=12month&apikey={api_key}\"\n",
    "    with requests.Session() as s:\n",
    "        download = s.get(url)\n",
    "        decoded_content = download.content.decode(\"utf-8\")\n",
    "        cr = csv.reader(decoded_content.splitlines(), delimiter=\",\")\n",
    "        my_list = list(cr)\n",
    "    return my_list\n",
    "\n",
    "\n",
    "@prompt_chain(\n",
    "    \"What's {ticker} expected earnings dates for the next 12 months?\",\n",
    "    functions=[get_earnings_calendar],\n",
    ")\n",
    "def get_earnings(ticker: str) -> str: ...\n",
    "\n",
    "\n",
    "get_earnings(\"IBM\")"
   ]
  },
  {
   "cell_type": "markdown",
   "metadata": {},
   "source": [
    "#### Streaming Response"
   ]
  },
  {
   "cell_type": "code",
   "execution_count": null,
   "metadata": {},
   "outputs": [],
   "source": [
    "from magentic import StreamedStr\n",
    "\n",
    "\n",
    "@prompt(\"Explain to me {term} in a way a 5-year-old would understand.\")\n",
    "def describe_finance_term(term: str) -> StreamedStr: ...\n",
    "\n",
    "\n",
    "# Print the chunks while they are being received\n",
    "for chunk in describe_finance_term(\"liquidity\"):\n",
    "    print(chunk, end=\"\")"
   ]
  },
  {
   "cell_type": "markdown",
   "metadata": {},
   "source": [
    "#### Streaming Structured Outputs"
   ]
  },
  {
   "cell_type": "code",
   "execution_count": null,
   "metadata": {},
   "outputs": [],
   "source": [
    "from collections.abc import Iterable\n",
    "from time import time\n",
    "\n",
    "\n",
    "class Portfolio(BaseModel):\n",
    "    equity_etf_pct: float\n",
    "    bond_etf_pc: float\n",
    "    crypto_etf_pc: float\n",
    "    commodities_pc: float\n",
    "    reasoning: str\n",
    "\n",
    "\n",
    "@prompt(\"Create {n_portfolio} portfolios with varying deegress of risk apetite.\")\n",
    "def create_portfolios(n_portfolio: int) -> Iterable[Portfolio]: ...\n",
    "\n",
    "\n",
    "start_time = time()\n",
    "for portfolio in create_portfolios(3):\n",
    "    print(f\"{time() - start_time:.2f}s : {portfolio}\")"
   ]
  },
  {
   "cell_type": "markdown",
   "metadata": {},
   "source": [
    "#### Asynchronous Streaming"
   ]
  },
  {
   "cell_type": "code",
   "execution_count": null,
   "metadata": {},
   "outputs": [],
   "source": [
    "import asyncio\n",
    "from typing import AsyncIterable\n",
    "\n",
    "\n",
    "@prompt(\"List three high-growth stocks.\")\n",
    "async def iter_growth_stocks() -> AsyncIterable[str]: ...\n",
    "\n",
    "\n",
    "@prompt(\"Tell me more about {stock_symbol}\")\n",
    "async def tell_me_more_about(stock_symbol: str) -> str: ...\n",
    "\n",
    "\n",
    "start_time = time()\n",
    "tasks = []\n",
    "async for stock in await iter_growth_stocks():\n",
    "    # Use asyncio.create_task to schedule the coroutine for execution before awaiting it\n",
    "    # This way descriptions will start being generated while the list of stocks is still being generated\n",
    "    task = asyncio.create_task(tell_me_more_about(stock))\n",
    "    tasks.append(task)\n",
    "\n",
    "descriptions = await asyncio.gather(*tasks)\n",
    "\n",
    "for desc in descriptions:\n",
    "    print(desc)"
   ]
  }
 ],
 "metadata": {
  "kernelspec": {
   "display_name": "magentic",
   "language": "python",
   "name": "python3"
  },
  "language_info": {
   "codemirror_mode": {
    "name": "ipython",
    "version": 3
   },
   "file_extension": ".py",
   "mimetype": "text/x-python",
   "name": "python",
   "nbconvert_exporter": "python",
   "pygments_lexer": "ipython3",
   "version": "3.11.11"
  }
 },
 "nbformat": 4,
 "nbformat_minor": 2
}
